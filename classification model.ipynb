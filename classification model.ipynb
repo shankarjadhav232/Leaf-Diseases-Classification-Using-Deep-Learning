{
 "cells": [
  {
   "cell_type": "code",
   "execution_count": 1,
   "metadata": {},
   "outputs": [
    {
     "name": "stderr",
     "output_type": "stream",
     "text": [
      "Using TensorFlow backend.\n"
     ]
    }
   ],
   "source": [
    "#Impoerting all necessary libraries\n",
    "from keras.preprocessing.image import ImageDataGenerator\n",
    "from keras.models import Sequential\n",
    "from keras.layers import Conv2D,MaxPooling2D\n",
    "from keras.layers import Activation,Dropout, Flatten, Dense\n",
    "from keras import backend as K\n",
    "from keras.layers.normalization import BatchNormalization"
   ]
  },
  {
   "cell_type": "code",
   "execution_count": 6,
   "metadata": {},
   "outputs": [],
   "source": [
    "img_width, img_height = 224, 224\n",
    "train_data_dir = r\"C:\\Users\\Shankar Jadhav\\Downloads\\v_data\\v_data\\train\"\n",
    "validation_data_dir=r\"C:\\Users\\Shankar Jadhav\\Downloads\\v_data\\v_data\\test\"\n",
    "nb_train_samples=400\n",
    "nb_validation_samples=100\n",
    "epochs=10\n",
    "batch_size=2"
   ]
  },
  {
   "cell_type": "code",
   "execution_count": 7,
   "metadata": {},
   "outputs": [],
   "source": [
    "#checking format of image\n",
    "if K.image_data_format()=='channels_first':\n",
    "    input_shape=(3,img_width,img_height)\n",
    "else:\n",
    "    input_shape=(img_width, img_height, 3)\n",
    "    \n",
    "    \n",
    "model=Sequential()\n",
    "\n",
    "model.add(Conv2D(32,(2,2), input_shape=input_shape))\n",
    "model.add(Activation('relu'))\n",
    "model.add(MaxPooling2D(pool_size=(2,2)))\n",
    "\n",
    "model.add(Conv2D(32,(2,2), input_shape=input_shape))\n",
    "model.add(Activation('relu'))\n",
    "model.add(MaxPooling2D(pool_size=(2,2)))\n",
    "\n",
    "\n",
    "\n",
    "model.add(Conv2D(64,(2,2)))\n",
    "model.add(Activation('relu'))\n",
    "model.add(MaxPooling2D(pool_size=(2,2)))\n",
    "\n",
    "\n",
    "\n",
    "model.add(Flatten())\n",
    "model.add(Dense(64))\n",
    "model.add(Activation('relu'))\n",
    "model.add(Dropout(0.5))\n",
    "model.add(Dense(1))\n",
    "model.add(Activation('sigmoid'))\n"
   ]
  },
  {
   "cell_type": "code",
   "execution_count": 8,
   "metadata": {},
   "outputs": [],
   "source": [
    "#compile Function\n",
    "model.compile(loss='binary_crossentropy',\n",
    "             optimizer='rmsprop',\n",
    "             metrics=['accuracy'])\n",
    "\n"
   ]
  },
  {
   "cell_type": "code",
   "execution_count": 9,
   "metadata": {},
   "outputs": [
    {
     "name": "stdout",
     "output_type": "stream",
     "text": [
      "Found 400 images belonging to 2 classes.\n",
      "Found 100 images belonging to 2 classes.\n",
      "Epoch 1/10\n",
      "200/200 [==============================] - 44s 218ms/step - loss: 0.6794 - acc: 0.6825 - val_loss: 0.3910 - val_acc: 0.8000\n",
      "Epoch 2/10\n",
      "200/200 [==============================] - 38s 188ms/step - loss: 0.5281 - acc: 0.8150 - val_loss: 0.3144 - val_acc: 0.8800\n",
      "Epoch 3/10\n",
      "200/200 [==============================] - 38s 191ms/step - loss: 0.4923 - acc: 0.8375 - val_loss: 0.3318 - val_acc: 0.8300\n",
      "Epoch 4/10\n",
      "200/200 [==============================] - 42s 208ms/step - loss: 0.4420 - acc: 0.8450 - val_loss: 0.2759 - val_acc: 0.8700\n",
      "Epoch 5/10\n",
      "200/200 [==============================] - 45s 226ms/step - loss: 0.4102 - acc: 0.8575 - val_loss: 0.3989 - val_acc: 0.9100\n",
      "Epoch 6/10\n",
      "200/200 [==============================] - 38s 192ms/step - loss: 0.4271 - acc: 0.8775 - val_loss: 0.2710 - val_acc: 0.8600 loss: 0.4292 - acc: 0.876\n",
      "Epoch 7/10\n",
      "200/200 [==============================] - 41s 203ms/step - loss: 0.4755 - acc: 0.8700 - val_loss: 0.3028 - val_acc: 0.8500\n",
      "Epoch 8/10\n",
      "200/200 [==============================] - 39s 194ms/step - loss: 0.4232 - acc: 0.8625 - val_loss: 0.5245 - val_acc: 0.8100\n",
      "Epoch 9/10\n",
      "200/200 [==============================] - 41s 204ms/step - loss: 0.3800 - acc: 0.8800 - val_loss: 0.2687 - val_acc: 0.9100\n",
      "Epoch 10/10\n",
      "200/200 [==============================] - 38s 190ms/step - loss: 0.4109 - acc: 0.8700 - val_loss: 0.3134 - val_acc: 0.8500\n"
     ]
    }
   ],
   "source": [
    "#using DataGenerator\n",
    "train_datagen=ImageDataGenerator(\n",
    "               rescale=1./255,\n",
    "               shear_range=0.2,\n",
    "               zoom_range=0.2,\n",
    "               horizontal_flip=True)\n",
    "\n",
    "test_datagen=ImageDataGenerator(rescale=1./255)\n",
    "\n",
    "train_generator=train_datagen.flow_from_directory(\n",
    "                train_data_dir,\n",
    "                target_size=(img_width,img_height),\n",
    "                batch_size=batch_size,\n",
    "                class_mode='binary')\n",
    "\n",
    "validation_generator = test_datagen.flow_from_directory(\n",
    "                       validation_data_dir,\n",
    "                       target_size=(img_width,img_height),\n",
    "                       batch_size=batch_size,\n",
    "                       class_mode='binary')\n",
    "\n",
    "model.fit_generator(\n",
    "train_generator,\n",
    "steps_per_epoch=nb_train_samples//batch_size,\n",
    "epochs=epochs,\n",
    "validation_data=validation_generator,\n",
    "validation_steps=nb_validation_samples//batch_size)\n",
    "\n",
    "model.save_weights('model_saved.h5')\n",
    "\n"
   ]
  },
  {
   "cell_type": "code",
   "execution_count": null,
   "metadata": {},
   "outputs": [],
   "source": []
  }
 ],
 "metadata": {
  "kernelspec": {
   "display_name": "Python 3",
   "language": "python",
   "name": "python3"
  },
  "language_info": {
   "codemirror_mode": {
    "name": "ipython",
    "version": 3
   },
   "file_extension": ".py",
   "mimetype": "text/x-python",
   "name": "python",
   "nbconvert_exporter": "python",
   "pygments_lexer": "ipython3",
   "version": "3.7.3"
  }
 },
 "nbformat": 4,
 "nbformat_minor": 2
}
